{
 "cells": [
  {
   "cell_type": "code",
   "execution_count": 23,
   "metadata": {},
   "outputs": [
    {
     "ename": "RuntimeError",
     "evalue": "Sizes of tensors must match except in dimension 1. Expected size 13 but got size 1 for tensor number 2 in the list.",
     "output_type": "error",
     "traceback": [
      "\u001b[1;31m---------------------------------------------------------------------------\u001b[0m",
      "\u001b[1;31mRuntimeError\u001b[0m                              Traceback (most recent call last)",
      "Cell \u001b[1;32mIn[23], line 15\u001b[0m\n\u001b[0;32m     12\u001b[0m PCA2 \u001b[38;5;241m=\u001b[39m batch[\u001b[38;5;124m'\u001b[39m\u001b[38;5;124mPCA2\u001b[39m\u001b[38;5;124m'\u001b[39m]\u001b[38;5;241m.\u001b[39munsqueeze(\u001b[38;5;241m0\u001b[39m)\u001b[38;5;241m.\u001b[39munsqueeze(\u001b[38;5;241m-\u001b[39m\u001b[38;5;241m1\u001b[39m)  \u001b[38;5;66;03m# Reshape to have the same dimensions as MFCC\u001b[39;00m\n\u001b[0;32m     14\u001b[0m \u001b[38;5;66;03m# Concatenate features along the feature dimension\u001b[39;00m\n\u001b[1;32m---> 15\u001b[0m x \u001b[38;5;241m=\u001b[39m \u001b[43mtorch\u001b[49m\u001b[38;5;241;43m.\u001b[39;49m\u001b[43mcat\u001b[49m\u001b[43m(\u001b[49m\u001b[43m[\u001b[49m\u001b[43mmfcc\u001b[49m\u001b[43m,\u001b[49m\u001b[43m \u001b[49m\u001b[43mmfcc_normalized\u001b[49m\u001b[43m,\u001b[49m\u001b[43m \u001b[49m\u001b[43mPCA1\u001b[49m\u001b[43m,\u001b[49m\u001b[43m \u001b[49m\u001b[43mPCA2\u001b[49m\u001b[43m]\u001b[49m\u001b[43m,\u001b[49m\u001b[43m \u001b[49m\u001b[43mdim\u001b[49m\u001b[38;5;241;43m=\u001b[39;49m\u001b[38;5;241;43m1\u001b[39;49m\u001b[43m)\u001b[49m\n\u001b[0;32m     16\u001b[0m outputs \u001b[38;5;241m=\u001b[39m model(x)\n\u001b[0;32m     18\u001b[0m \u001b[38;5;66;03m# Compute similarity scores between tracks\u001b[39;00m\n",
      "\u001b[1;31mRuntimeError\u001b[0m: Sizes of tensors must match except in dimension 1. Expected size 13 but got size 1 for tensor number 2 in the list."
     ]
    }
   ],
   "source": [
    "import pandas as pd\n",
    "from pymongo import MongoClient\n",
    "\n",
    "# Connect to MongoDB\n",
    "client = MongoClient('localhost', 27017)  # Assuming MongoDB is running locally on default port\n",
    "db = client['bdaProject']  # Replace 'your_database_name' with your actual database name\n",
    "collection = db['extractedFeatures']  # Replace 'your_collection_name' with your actual collection name\n",
    "\n",
    "# Fetch specific fields from all documents in the collection\n",
    "cursor = collection.find({}, {'track_id': 1, 'duration': 1, 'mfcc': 1, 'mfcc_normalized': 1, 'PCA1': 1, 'PCA2': 1})\n",
    "\n",
    "# Convert documents to a list of dictionaries\n",
    "data = list(cursor)\n",
    "\n",
    "# Close the cursor\n",
    "cursor.close()\n",
    "\n",
    "# Convert list of dictionaries to pandas DataFrame\n",
    "df = pd.DataFrame(data)\n",
    "\n",
    "# Print the DataFrame\n",
    "print(df)\n"
   ]
  },
  {
   "cell_type": "code",
   "execution_count": 17,
   "metadata": {},
   "outputs": [],
   "source": [
    "from sklearn.preprocessing import LabelEncoder\n",
    "import torch\n",
    "from torch.utils.data import DataLoader, Dataset\n",
    "from sklearn.metrics.pairwise import cosine_similarity"
   ]
  },
  {
   "cell_type": "code",
   "execution_count": 69,
   "metadata": {},
   "outputs": [],
   "source": [
    "class MusicDataset(Dataset):\n",
    "    def __init__(self, df):\n",
    "        self.df = df\n",
    "\n",
    "    def __len__(self):\n",
    "        return len(self.df)\n",
    "\n",
    "    def __getitem__(self, idx):\n",
    "        sample = {\n",
    "            'track_id': torch.tensor(self.df.iloc[idx]['track_id'], dtype=torch.long),\n",
    "            'mfcc': torch.tensor(self.df.iloc[idx]['mfcc'], dtype=torch.float),\n",
    "            'mfcc_normalized': torch.tensor(self.df.iloc[idx]['mfcc_normalized'], dtype=torch.float),\n",
    "            'PCA1': torch.tensor(self.df.iloc[idx]['PCA1'], dtype=torch.float),\n",
    "            'PCA2': torch.tensor(self.df.iloc[idx]['PCA2'], dtype=torch.float),\n",
    "        }\n",
    "        return sample\n",
    "\n",
    "# Create PyTorch Dataset\n",
    "dataset = MusicDataset(df)\n",
    "\n"
   ]
  },
  {
   "cell_type": "code",
   "execution_count": 82,
   "metadata": {},
   "outputs": [],
   "source": [
    "# Define model architecture\n",
    "class RecommenderModel(torch.nn.Module):\n",
    "    def __init__(self, input_dim):\n",
    "        super(RecommenderModel, self).__init__()\n",
    "        self.fc1 = torch.nn.Linear(input_dim, 128)  # Adjust the input dimension here\n",
    "        self.fc2 = torch.nn.Linear(128, 64)\n",
    "        self.fc3 = torch.nn.Linear(64, 1)\n",
    "\n",
    "    def forward(self, x):\n",
    "        x = torch.relu(self.fc1(x))\n",
    "        x = torch.relu(self.fc2(x))\n",
    "        x = self.fc3(x)\n",
    "        return x\n",
    "\n",
    "# Adjust the input dimension based on the size of the concatenated tensor\n",
    "input_dim = 28  # Adjust this based on the actual size of the concatenated tensor x\n",
    "model = RecommenderModel(input_dim)\n",
    "\n",
    "criterion = torch.nn.MSELoss()\n",
    "optimizer = torch.optim.Adam(model.parameters(), lr=0.001)\n",
    "\n",
    "# Define DataLoader\n",
    "dataloader = DataLoader(dataset, batch_size=32, shuffle=True)"
   ]
  },
  {
   "cell_type": "code",
   "execution_count": 83,
   "metadata": {},
   "outputs": [
    {
     "name": "stdout",
     "output_type": "stream",
     "text": [
      "torch.Size([1, 32, 13])\n",
      "torch.Size([1, 32, 13])\n",
      "torch.Size([1, 32, 13])\n",
      "torch.Size([1, 32, 13])\n"
     ]
    }
   ],
   "source": [
    "print(mfcc.shape)\n",
    "print(mfcc_normalized.shape)\n",
    "print(PCA1.shape)\n",
    "print(PCA2.shape)\n"
   ]
  },
  {
   "cell_type": "code",
   "execution_count": 71,
   "metadata": {},
   "outputs": [
    {
     "name": "stdout",
     "output_type": "stream",
     "text": [
      "torch.Size([1, 32, 13])\n",
      "torch.Size([1, 32, 13])\n",
      "torch.Size([1, 32, 13])\n",
      "torch.Size([1, 32, 13])\n"
     ]
    }
   ],
   "source": [
    "PCA1 = PCA1.expand(-1, -1, 13)\n",
    "PCA2 = PCA2.expand(-1, -1, 13)\n",
    "\n",
    "print(mfcc.shape)\n",
    "print(mfcc_normalized.shape)\n",
    "print(PCA1.shape)\n",
    "print(PCA2.shape)"
   ]
  },
  {
   "cell_type": "code",
   "execution_count": null,
   "metadata": {},
   "outputs": [],
   "source": [
    "# Training loop\n",
    "num_epochs = 10\n",
    "for epoch in range(num_epochs):\n",
    "    total_loss = 0\n",
    "    for batch in dataloader:\n",
    "        optimizer.zero_grad()\n",
    "\n",
    "        # Concatenate features along the feature dimension\n",
    "        x = torch.cat([batch['mfcc'], batch['mfcc_normalized'], batch['PCA1'].unsqueeze(1), batch['PCA2'].unsqueeze(1)], dim=1)\n",
    "\n",
    "        # Pass concatenated features through the model\n",
    "        outputs = model(x)\n",
    "\n",
    "        # Reshape outputs to have a shape of [batch_size, 1]\n",
    "        outputs = outputs.view(-1, 1)\n",
    "\n",
    "        # Compute similarity scores between tracks\n",
    "        sim_scores = cosine_similarity(outputs.detach().numpy())\n",
    "\n",
    "        # Define target variable (similarity score)\n",
    "        target = torch.tensor(sim_scores, dtype=torch.float)\n",
    "\n",
    "        loss = criterion(outputs, target)\n",
    "        loss.backward()\n",
    "        optimizer.step()\n",
    "        total_loss += loss.item()\n",
    "    print(f'Epoch {epoch+1}/{num_epochs}, Loss: {total_loss/len(dataloader):.4f}')\n"
   ]
  },
  {
   "cell_type": "code",
   "execution_count": 92,
   "metadata": {
    "vscode": {
     "languageId": "ruby"
    }
   },
   "outputs": [
    {
     "name": "stdout",
     "output_type": "stream",
     "text": [
      "Average Mean Squared Error: 0.024993423372507095\n"
     ]
    }
   ],
   "source": [
    "# Assuming 'model' is your trained model and 'dataloader' is your DataLoader for the evaluation set\n",
    "\n",
    "model.eval()  # Set the model to evaluation mode\n",
    "\n",
    "# Initialize a list to store the losses for each batch\n",
    "batch_losses = []\n",
    "\n",
    "with torch.no_grad():  # No need to track gradients during evaluation\n",
    "    for batch in dataloader:\n",
    "        # Concatenate features along the feature dimension\n",
    "        x = torch.cat([batch['mfcc'], batch['mfcc_normalized'], batch['PCA1'].unsqueeze(1), batch['PCA2'].unsqueeze(1)], dim=1)\n",
    "        \n",
    "        # Pass concatenated features through the model\n",
    "        outputs = model(x)\n",
    "        \n",
    "        # Reshape outputs to have a shape of [batch_size, 1]\n",
    "        outputs = outputs.view(-1, 1)\n",
    "        \n",
    "        # Compute similarity scores between tracks\n",
    "        sim_scores = cosine_similarity(outputs.detach().numpy())\n",
    "        \n",
    "        # Extract the diagonal of the similarity matrix to get the self-similarity scores\n",
    "        true_sim = np.diag(sim_scores)\n",
    "        \n",
    "        # Flatten the model outputs to a vector\n",
    "        pred_sim = outputs.squeeze().detach().numpy()\n",
    "        \n",
    "        # Compute Mean Squared Error for the current batch\n",
    "        mse_loss = np.mean((true_sim - pred_sim) ** 2)\n",
    "        \n",
    "        # Store the loss for the current batch\n",
    "        batch_losses.append(mse_loss)\n",
    "\n",
    "# Compute the average loss across all batches\n",
    "average_loss = np.mean(batch_losses)\n",
    "print(f'Average Mean Squared Error: {average_loss}')\n"
   ]
  }
 ],
 "metadata": {
  "kernelspec": {
   "display_name": "Python 3",
   "language": "python",
   "name": "python3"
  },
  "language_info": {
   "codemirror_mode": {
    "name": "ipython",
    "version": 3
   },
   "file_extension": ".py",
   "mimetype": "text/x-python",
   "name": "python",
   "nbconvert_exporter": "python",
   "pygments_lexer": "ipython3",
   "version": "3.11.1"
  }
 },
 "nbformat": 4,
 "nbformat_minor": 2
}
